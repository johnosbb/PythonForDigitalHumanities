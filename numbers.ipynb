{
 "cells": [
  {
   "cell_type": "code",
   "execution_count": 4,
   "metadata": {},
   "outputs": [
    {
     "name": "stdout",
     "output_type": "stream",
     "text": [
      "4.0\n",
      "3.0\n",
      "1\n"
     ]
    }
   ],
   "source": [
    "a1 = 1.0\n",
    "b1 = 2.0\n",
    "c1 = \"3\"\n",
    "d1 = 4\n",
    "\n",
    "n1 = float(d1)\n",
    "print(n1)\n",
    "n2 = float(c1)\n",
    "print(n2)\n",
    "\n",
    "n3 = int(a1)\n",
    "print(n3)"
   ]
  },
  {
   "cell_type": "code",
   "execution_count": 9,
   "metadata": {},
   "outputs": [
    {
     "name": "stdout",
     "output_type": "stream",
     "text": [
      "3.0\n",
      "1.8\n",
      "1\n",
      "4\n"
     ]
    }
   ],
   "source": [
    "\n",
    "a = 9\n",
    "b = 3\n",
    "c = 5\n",
    "d= a/b\n",
    "print(d)\n",
    "e= a/c\n",
    "print(e)\n",
    "f = a//c # floor rounded down\n",
    "print(f)\n",
    "g = a%c # modulo\n",
    "print(g)"
   ]
  }
 ],
 "metadata": {
  "kernelspec": {
   "display_name": "base",
   "language": "python",
   "name": "python3"
  },
  "language_info": {
   "codemirror_mode": {
    "name": "ipython",
    "version": 3
   },
   "file_extension": ".py",
   "mimetype": "text/x-python",
   "name": "python",
   "nbconvert_exporter": "python",
   "pygments_lexer": "ipython3",
   "version": "3.9.16"
  },
  "orig_nbformat": 4
 },
 "nbformat": 4,
 "nbformat_minor": 2
}
