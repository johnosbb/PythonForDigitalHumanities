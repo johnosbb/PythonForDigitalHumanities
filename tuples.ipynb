{
 "cells": [
  {
   "cell_type": "code",
   "execution_count": 3,
   "metadata": {},
   "outputs": [
    {
     "name": "stdout",
     "output_type": "stream",
     "text": [
      "('one', 2, 1.0)\n",
      "first element : one\n",
      "final element 1.0\n",
      "First two elements ('one', 2)\n",
      "second element to the end : (2, 1.0)\n",
      "from the start to the 3rd : ('one', 2, 1.0)\n",
      "one\n",
      "2\n",
      "1.0\n",
      "((1, 2), (3, 4))\n",
      "3\n"
     ]
    }
   ],
   "source": [
    "#Tuples\n",
    "\n",
    "r1 = (\"one\",2,1.0)\n",
    "\n",
    "print(r1)\n",
    "\n",
    "# accessing elements, first element\n",
    "print(f\"first element : {r1[0]}\")\n",
    "\n",
    "# accessing elements, final element\n",
    "print(f\"final element {r1[2]}\")\n",
    "\n",
    "\n",
    "# accessing elements, range, first two elements\n",
    "print(f\"First two elements {r1[0:2]}\")\n",
    "\n",
    "# accessing elements, range, from the second element to the end\n",
    "print(f\"second element to the end : {r1[1:]}\")\n",
    "\n",
    "# accessing elements, range, from the start to the 3rd element\n",
    "print(f\"from the start to the 3rd : {r1[:3]}\")\n",
    "\n",
    "\n",
    "# We can iterate through a tuple\n",
    "for t in r1:\n",
    "    print(t)\n",
    "\n",
    "\n",
    "# Tuples can contain other tuples\n",
    "\n",
    "r2 = ((1,2),(3,4))\n",
    "print(r2)\n",
    "print(r2[1][0]) # print the second element of the second tuple"
   ]
  }
 ],
 "metadata": {
  "kernelspec": {
   "display_name": "base",
   "language": "python",
   "name": "python3"
  },
  "language_info": {
   "codemirror_mode": {
    "name": "ipython",
    "version": 3
   },
   "file_extension": ".py",
   "mimetype": "text/x-python",
   "name": "python",
   "nbconvert_exporter": "python",
   "pygments_lexer": "ipython3",
   "version": "3.9.16"
  },
  "orig_nbformat": 4
 },
 "nbformat": 4,
 "nbformat_minor": 2
}
