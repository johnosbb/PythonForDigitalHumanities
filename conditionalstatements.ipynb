{
 "cells": [
  {
   "attachments": {},
   "cell_type": "markdown",
   "metadata": {},
   "source": []
  },
  {
   "cell_type": "code",
   "execution_count": 11,
   "metadata": {},
   "outputs": [
    {
     "name": "stdout",
     "output_type": "stream",
     "text": [
      "Yes, that is him\n",
      "No, that is not him\n",
      "Yes, we found Bob\n",
      "Yes, we found them\n",
      "Yes, we found one of them\n",
      "Yes, these are friends\n"
     ]
    }
   ],
   "source": [
    "name = \"Ross\"\n",
    "if name == \"Ross\":\n",
    "    print(\"Yes, that is him\")\n",
    "else:\n",
    "    print(\"No, it is not him\")    \n",
    "    \n",
    "    \n",
    "name = \"Tony\"\n",
    "if name != \"Ross\":\n",
    "    print(\"No, that is not him\")\n",
    "else:\n",
    "    print(\"Yes, it is him\") \n",
    "    \n",
    "friends = [\"Tony\", \"Bob\", \"Fred\", \"Anne\"]\n",
    "if \"Bob\" in friends:\n",
    "    print(\"Yes, we found Bob\")    \n",
    "if \"Bob\" and \"Fred\" in friends:\n",
    "    print(\"Yes, we found them\") \n",
    "    \n",
    "if \"Bob\" or \"Frederick\" in friends:\n",
    "    print(\"Yes, we found one of them\")\n",
    "    \n",
    "# subsets\n",
    "\n",
    "if {\"Bob\", \"Fred\"}.issubset(friends):\n",
    "    print(\"Yes, these are friends\")"
   ]
  }
 ],
 "metadata": {
  "kernelspec": {
   "display_name": "base",
   "language": "python",
   "name": "python3"
  },
  "language_info": {
   "codemirror_mode": {
    "name": "ipython",
    "version": 3
   },
   "file_extension": ".py",
   "mimetype": "text/x-python",
   "name": "python",
   "nbconvert_exporter": "python",
   "pygments_lexer": "ipython3",
   "version": "3.9.7"
  },
  "orig_nbformat": 4
 },
 "nbformat": 4,
 "nbformat_minor": 2
}
