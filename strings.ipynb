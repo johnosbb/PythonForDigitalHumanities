{
 "cells": [
  {
   "cell_type": "code",
   "execution_count": 4,
   "metadata": {},
   "outputs": [
    {
     "name": "stdout",
     "output_type": "stream",
     "text": [
      "hello world, hello python\n"
     ]
    }
   ],
   "source": [
    "a_string=\"hello world, hello python\"\n",
    "print(a_string)"
   ]
  },
  {
   "cell_type": "code",
   "execution_count": 7,
   "metadata": {},
   "outputs": [
    {
     "name": "stdout",
     "output_type": "stream",
     "text": [
      "The word 'hello'' is at location 0 of the target string\n",
      "The word 'python'' is at location 19 of the target string\n"
     ]
    }
   ],
   "source": [
    "print(\"The word 'hello'' is at location {} of the target string\".format(a_string.find(\"hello\")))\n",
    "print(\"The word 'python'' is at location {} of the target string\".format(a_string.find(\"python\")))"
   ]
  },
  {
   "cell_type": "code",
   "execution_count": 9,
   "metadata": {},
   "outputs": [
    {
     "name": "stdout",
     "output_type": "stream",
     "text": [
      "hello world, hello python\n"
     ]
    }
   ],
   "source": [
    "a_string.replace(\"python\",\"Python\")\n",
    "print(a_string)"
   ]
  },
  {
   "cell_type": "code",
   "execution_count": 11,
   "metadata": {},
   "outputs": [
    {
     "name": "stdout",
     "output_type": "stream",
     "text": [
      "['hello world', ' hello python']\n"
     ]
    }
   ],
   "source": [
    "parts = a_string.split(\",\")\n",
    "print(parts)"
   ]
  },
  {
   "cell_type": "code",
   "execution_count": 13,
   "metadata": {},
   "outputs": [
    {
     "name": "stdout",
     "output_type": "stream",
     "text": [
      "my name is Sean\n"
     ]
    }
   ],
   "source": [
    "name = \"Sean\"\n",
    "another_string = f\"my name is {name}\"\n",
    "print(another_string)"
   ]
  },
  {
   "cell_type": "code",
   "execution_count": 16,
   "metadata": {},
   "outputs": [
    {
     "name": "stdout",
     "output_type": "stream",
     "text": [
      "Occurences of the word 'python' = 2\n"
     ]
    }
   ],
   "source": [
    "text = \"Sean was busy learning about python. Python is a programming language\"\n",
    "print(\"Occurences of the word 'python' = {}\".format(text.lower().count(\"python\")))"
   ]
  },
  {
   "cell_type": "code",
   "execution_count": 17,
   "metadata": {},
   "outputs": [
    {
     "name": "stdout",
     "output_type": "stream",
     "text": [
      "Found Sean\n"
     ]
    }
   ],
   "source": [
    "if(\"sean\" in text.lower()):\n",
    "    print(\"Found Sean\")"
   ]
  }
 ],
 "metadata": {
  "kernelspec": {
   "display_name": "base",
   "language": "python",
   "name": "python3"
  },
  "language_info": {
   "codemirror_mode": {
    "name": "ipython",
    "version": 3
   },
   "file_extension": ".py",
   "mimetype": "text/x-python",
   "name": "python",
   "nbconvert_exporter": "python",
   "pygments_lexer": "ipython3",
   "version": "3.9.7"
  },
  "orig_nbformat": 4
 },
 "nbformat": 4,
 "nbformat_minor": 2
}
