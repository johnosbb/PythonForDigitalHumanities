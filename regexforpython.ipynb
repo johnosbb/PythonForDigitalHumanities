{
 "cells": [
  {
   "cell_type": "code",
   "execution_count": 2,
   "metadata": {},
   "outputs": [
    {
     "name": "stdout",
     "output_type": "stream",
     "text": [
      "['1', '2', '3', '4', '5', '5', '5']\n"
     ]
    }
   ],
   "source": [
    "import re\n",
    "\n",
    "new_string = \"I want to catch all of the numbers in this string. 1, 2, 3, 4, 5, 55\"\n",
    "description = \"Mark graduated from high school on 04/15/2018\"\n",
    "\n",
    "result = re.findall(r\"\\d\",new_string)\n",
    "print(result)"
   ]
  },
  {
   "cell_type": "code",
   "execution_count": 3,
   "metadata": {},
   "outputs": [
    {
     "name": "stdout",
     "output_type": "stream",
     "text": [
      "['1,', '2,', '3,', '4,', '5,']\n"
     ]
    }
   ],
   "source": [
    "import re\n",
    "\n",
    "new_string = \"I want to catch all of the numbers in this string. 1, 2, 3, 4, 5, 55.\"\n",
    "description = \"Mark graduated from high school on 04/15/2018\"\n",
    "\n",
    "result = re.findall(r\"\\d,\",new_string)\n",
    "print(result)"
   ]
  },
  {
   "cell_type": "code",
   "execution_count": 4,
   "metadata": {},
   "outputs": [
    {
     "name": "stdout",
     "output_type": "stream",
     "text": [
      "['55']\n"
     ]
    }
   ],
   "source": [
    "import re\n",
    "\n",
    "new_string = \"I want to catch all of the numbers in this string. 1, 2, 3, 4, 5, 55\"\n",
    "description = \"Mark graduated from high school on 04/15/2018\"\n",
    "\n",
    "result = re.findall(r\"\\d\\d\",new_string,re.IGNORECASE)\n",
    "print(result)"
   ]
  },
  {
   "cell_type": "code",
   "execution_count": 11,
   "metadata": {},
   "outputs": [
    {
     "name": "stdout",
     "output_type": "stream",
     "text": [
      "['04/15/2018', '03/04/2020']\n"
     ]
    }
   ],
   "source": [
    "import re\n",
    "\n",
    "new_string = \"I want to catch all of the numbers in this string. 1, 2, 3, 4, 5, 55\"\n",
    "description = \"Mark graduated from high school on 04/15/2018, then on 03/04/2020 he started his first job.\"\n",
    "\n",
    "result = re.findall(r\"[0-9]{2}/[0-9]{2}/[0-9]{4}\",description) # find 2 digits in the range 0 to 9 followed by a slash\n",
    "print(result)"
   ]
  },
  {
   "cell_type": "code",
   "execution_count": 13,
   "metadata": {},
   "outputs": [
    {
     "name": "stdout",
     "output_type": "stream",
     "text": [
      "['04/15/2018', '3/04/2020']\n"
     ]
    }
   ],
   "source": [
    "import re\n",
    "\n",
    "new_string = \"I want to catch all of the numbers in this string. 1, 2, 3, 4, 5, 55\"\n",
    "description = \"Mark graduated from high school on 04/15/2018, then on 3/04/2020 he started his first job.\"\n",
    "\n",
    "result = re.findall(r\"[0-9]{1,2}/[0-9]{2}/[0-9]{4}\",description) # find 2 digits in the range 0 to 9 followed by a slash\n",
    "print(result)"
   ]
  },
  {
   "cell_type": "code",
   "execution_count": 18,
   "metadata": {},
   "outputs": [
    {
     "name": "stdout",
     "output_type": "stream",
     "text": [
      "['04\\\\15\\\\2018', '3\\\\04\\\\2020']\n"
     ]
    }
   ],
   "source": [
    "import re\n",
    "\n",
    "new_string = \"I want to catch all of the numbers in this string. 1, 2, 3, 4, 5, 55\"\n",
    "description = \"Mark graduated from high school on 04\\\\15\\\\2018, then on 3\\\\04\\\\2020 he started his first job.\"\n",
    "\n",
    "result = re.findall(r\"[0-9]{1,2}\\\\[0-9]{1,2}\\\\[0-9]{4}\",description) # find 2 digits in the range 0 to 9 followed by a slash\n",
    "print(result)"
   ]
  },
  {
   "cell_type": "code",
   "execution_count": 31,
   "metadata": {},
   "outputs": [
    {
     "name": "stdout",
     "output_type": "stream",
     "text": [
      "['CHAPTER 1']\n"
     ]
    }
   ],
   "source": [
    "import re\n",
    "\n",
    "filename = \"./ReferenceFiles/chapter_01.txt\"\n",
    "with open(filename,\"r\") as f:\n",
    "    data  = f.read() # read as a stream\n",
    "    \n",
    "\n",
    "# result = re.findall(r\"[a-z]\",data) # find 2 digits in the range 0 to 9 followed by a slash\n",
    "# print(result)\n",
    "\n",
    "result = re.findall(r\"[A-Z]{7} [0-9]|[a-z]{7} [0-9]{1,2}\",data) # Find chapter headings either lower or uppercase\n",
    "print(result)"
   ]
  }
 ],
 "metadata": {
  "kernelspec": {
   "display_name": "base",
   "language": "python",
   "name": "python3"
  },
  "language_info": {
   "codemirror_mode": {
    "name": "ipython",
    "version": 3
   },
   "file_extension": ".py",
   "mimetype": "text/x-python",
   "name": "python",
   "nbconvert_exporter": "python",
   "pygments_lexer": "ipython3",
   "version": "3.9.16"
  },
  "orig_nbformat": 4
 },
 "nbformat": 4,
 "nbformat_minor": 2
}
