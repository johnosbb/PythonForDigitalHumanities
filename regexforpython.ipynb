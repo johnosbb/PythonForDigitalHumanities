{
 "cells": [
  {
   "cell_type": "code",
   "execution_count": 2,
   "metadata": {},
   "outputs": [
    {
     "name": "stdout",
     "output_type": "stream",
     "text": [
      "['1', '2', '3', '4', '5', '5', '5']\n"
     ]
    }
   ],
   "source": [
    "import re\n",
    "\n",
    "new_string = \"I want to catch all of the numbers in this string. 1, 2, 3, 4, 5, 55\"\n",
    "description = \"Mark graduated from high school on 04/15/2018\"\n",
    "\n",
    "result = re.findall(r\"\\d\",new_string)\n",
    "print(result)"
   ]
  },
  {
   "cell_type": "code",
   "execution_count": 3,
   "metadata": {},
   "outputs": [
    {
     "name": "stdout",
     "output_type": "stream",
     "text": [
      "['1,', '2,', '3,', '4,', '5,']\n"
     ]
    }
   ],
   "source": [
    "import re\n",
    "\n",
    "new_string = \"I want to catch all of the numbers in this string. 1, 2, 3, 4, 5, 55.\"\n",
    "description = \"Mark graduated from high school on 04/15/2018\"\n",
    "\n",
    "result = re.findall(r\"\\d,\",new_string)\n",
    "print(result)"
   ]
  },
  {
   "cell_type": "code",
   "execution_count": 4,
   "metadata": {},
   "outputs": [
    {
     "name": "stdout",
     "output_type": "stream",
     "text": [
      "['55']\n"
     ]
    }
   ],
   "source": [
    "import re\n",
    "\n",
    "new_string = \"I want to catch all of the numbers in this string. 1, 2, 3, 4, 5, 55\"\n",
    "description = \"Mark graduated from high school on 04/15/2018\"\n",
    "\n",
    "result = re.findall(r\"\\d\\d\",new_string,re.IGNORECASE)\n",
    "print(result)"
   ]
  },
  {
   "cell_type": "code",
   "execution_count": 11,
   "metadata": {},
   "outputs": [
    {
     "name": "stdout",
     "output_type": "stream",
     "text": [
      "['04/15/2018', '03/04/2020']\n"
     ]
    }
   ],
   "source": [
    "import re\n",
    "\n",
    "new_string = \"I want to catch all of the numbers in this string. 1, 2, 3, 4, 5, 55\"\n",
    "description = \"Mark graduated from high school on 04/15/2018, then on 03/04/2020 he started his first job.\"\n",
    "\n",
    "result = re.findall(r\"[0-9]{2}/[0-9]{2}/[0-9]{4}\",description) # find 2 digits in the range 0 to 9 followed by a slash\n",
    "print(result)"
   ]
  },
  {
   "cell_type": "code",
   "execution_count": 13,
   "metadata": {},
   "outputs": [
    {
     "name": "stdout",
     "output_type": "stream",
     "text": [
      "['04/15/2018', '3/04/2020']\n"
     ]
    }
   ],
   "source": [
    "import re\n",
    "\n",
    "new_string = \"I want to catch all of the numbers in this string. 1, 2, 3, 4, 5, 55\"\n",
    "description = \"Mark graduated from high school on 04/15/2018, then on 3/04/2020 he started his first job.\"\n",
    "\n",
    "result = re.findall(r\"[0-9]{1,2}/[0-9]{2}/[0-9]{4}\",description) # find 2 digits in the range 0 to 9 followed by a slash\n",
    "print(result)"
   ]
  },
  {
   "cell_type": "code",
   "execution_count": 4,
   "metadata": {},
   "outputs": [
    {
     "name": "stdout",
     "output_type": "stream",
     "text": [
      "['04\\\\15\\\\2018', '3\\\\04\\\\2020']\n"
     ]
    }
   ],
   "source": [
    "import re\n",
    "\n",
    "new_string = \"I want to catch all of the numbers in this string. 1, 2, 3, 4, 5, 55\"\n",
    "description = \"Mark graduated from high school on 04\\\\15\\\\2018, then on 3\\\\04\\\\2020 he started his first job.\"\n",
    "\n",
    "result = re.findall(r\"[0-9]{1,2}\\\\[0-9]{1,2}\\\\[0-9]{4}\",description) # find 2 digits in the range 0 to 9 followed by a slash\n",
    "print(result)"
   ]
  },
  {
   "cell_type": "code",
   "execution_count": 31,
   "metadata": {},
   "outputs": [
    {
     "name": "stdout",
     "output_type": "stream",
     "text": [
      "['CHAPTER 1']\n"
     ]
    }
   ],
   "source": [
    "import re\n",
    "\n",
    "filename = \"./ReferenceFiles/chapter_01.txt\"\n",
    "with open(filename,\"r\") as f:\n",
    "    data  = f.read() # read as a stream\n",
    "    \n",
    "\n",
    "# result = re.findall(r\"[a-z]\",data) # find 2 digits in the range 0 to 9 followed by a slash\n",
    "# print(result)\n",
    "\n",
    "result = re.findall(r\"[A-Z]{7} [0-9]|[a-z]{7} [0-9]{1,2}\",data) # Find chapter headings either lower or uppercase\n",
    "print(result)"
   ]
  },
  {
   "cell_type": "code",
   "execution_count": 24,
   "metadata": {},
   "outputs": [],
   "source": [
    "import re\n",
    "\n",
    "filename = \"./ReferenceFiles/syslog\"\n",
    "with open(filename,\"r\") as f:\n",
    "    data  = f.read() # read as a stream\n",
    "    \n",
    "outfilename = \"./ReferenceFiles/syslog_out\"\n",
    "with open(outfilename, \"w\") as fout:\n",
    "    \n",
    "    # result = re.findall(r\"[a-z]\",data) # find 2 digits in the range 0 to 9 followed by a slash\n",
    "    # print(result)\n",
    "    pattern1 = r\".*bb_kvm_client\\[\\d+\\]: Mqtt terminate command received:.*\"\n",
    "    pattern2 = r\".*snuc-sdkvm app.py: WorkspaceStatus: Updating OSD status for terminated workspace.*\"\n",
    "    # pattern3 = r\".*snuc-sdkvm app.py: publish_status: blackbox/sdkvm/deskvue/status/osd_sdkvm/connection.*\"\n",
    "    pattern4 = r\".*- Received MQTT:TOPIC.*\"\n",
    "    pattern5 = r\".*app.py: mqtt: send_message: topic.*\"\n",
    "    pattern6 = r\".*topic=blackbox/sdkvm/deskvue/cmd/clients/terminate.*\"\n",
    "    pattern7 = r\".*app.py: publish_status:.*\"\n",
    "    pattern8 = r\".*\\[INFO \\] - Received MQTT:TOPIC -.*\"\n",
    "    pattern9 = r\".*status is detected of workspace on.*\"\n",
    "    patterns = [pattern1,pattern2,pattern4,pattern5,pattern6,pattern7,pattern8,pattern9]\n",
    "    expression = '|'.join(patterns)\n",
    "    results = re.findall(expression,data) # Find chapter headings either lower or uppercase\n",
    "    for result in results:\n",
    "        fout.write(f\"{result}\\n\")"
   ]
  },
  {
   "cell_type": "code",
   "execution_count": 21,
   "metadata": {},
   "outputs": [
    {
     "data": {
      "image/png": "[encoded data removed]",
      "text/plain": [
       "<Figure size 432x288 with 1 Axes>"
      ]
     },
     "metadata": {
      "needs_background": "light"
     },
     "output_type": "display_data"
    }
   ],
   "source": [
    "import matplotlib.pyplot as plt\n",
    "import matplotlib.dates as mdates\n",
    "from datetime import datetime\n",
    "import numpy as np\n",
    "\n",
    "# Example event data\n",
    "events = [\n",
    "    {\"time\": \"2023-05-10 10:30\", \"event\": \"Event 1\"},\n",
    "    {\"time\": \"2023-05-10 12:15\", \"event\": \"Event 2\"},\n",
    "    {\"time\": \"2023-05-10 14:00\", \"event\": \"Event 3\"},\n",
    "    # Add more events as needed\n",
    "]\n",
    "\n",
    "# Convert time strings to datetime objects\n",
    "event_times = [datetime.strptime(event[\"time\"], \"%Y-%m-%d %H:%M\") for event in events]\n",
    "event_labels = [event[\"event\"] for event in events]\n",
    "\n",
    "y_pos = np.arange(len(events))\n",
    "# Create a plot\n",
    "fig, ax = plt.subplots()\n",
    "\n",
    "# Set x-axis to display time\n",
    "ax.xaxis.set_major_formatter(mdates.DateFormatter(\"%H:%M\"))\n",
    "ax.xaxis.set_major_locator(mdates.HourLocator(interval=1))\n",
    "\n",
    "# Plot the events\n",
    "ax.eventplot(event_times, lineoffsets=1, linelengths=0.5, color=\"red\")\n",
    "ax.set_ylim(0.5, 1.5)  # Adjust the y-axis limits\n",
    "ax.set_yticks(y_pos)\n",
    "ax.set_yticklabels(event_labels)\n",
    "\n",
    "# Set plot title and labels\n",
    "ax.set_title(\"Events Timeline\")\n",
    "ax.set_xlabel(\"Time\")\n",
    "ax.set_ylabel(\"Events\")\n",
    "\n",
    "# Display the plot\n",
    "plt.show()\n"
   ]
  },
  {
   "cell_type": "code",
   "execution_count": 17,
   "metadata": {},
   "outputs": [
    {
     "data": {
      "image/png": "[encoded data removed]",
      "text/plain": [
       "<Figure size 432x288 with 1 Axes>"
      ]
     },
     "metadata": {
      "needs_background": "light"
     },
     "output_type": "display_data"
    }
   ],
   "source": [
    "import matplotlib.pyplot as plt\n",
    "import matplotlib.dates as mdates\n",
    "from datetime import datetime\n",
    "import numpy as np\n",
    "\n",
    "# Fixing random state for reproducibility\n",
    "np.random.seed(19680801)\n",
    "\n",
    "# Example data\n",
    "people = ('Tom', 'Dick', 'Harry', 'Slim', 'Jim')\n",
    "y_pos = np.arange(len(people))\n",
    "performance = .02 + 10 * np.random.rand(len(people))\n",
    "error = np.random.rand(len(people))\n",
    "\n",
    "fig, ax = plt.subplots()\n",
    "\n",
    "#hbars = ax.barh(y_pos, performance, xerr=error, align='center')\n",
    "hbars = ax.eventplot(event_times, lineoffsets=1, linelengths=0.5, color=\"red\")\n",
    "ax.set_yticks(y_pos)\n",
    "ax.set_yticklabels(people)\n",
    "ax.invert_yaxis()  # labels read top-to-bottom\n",
    "ax.set_xlabel('Performance')\n",
    "ax.set_title('How fast do you want to go today?')\n",
    "ax.set_ylim(0.5, 1.5)  # Adjust the y-axis limits\n",
    "\n",
    "# Label with specially formatted floats\n",
    "# ax.bar_label(hbars, fmt='%.2f')\n",
    "ax.set_xlim(right=15)  # adjust xlim to fit labels\n",
    "\n",
    "plt.show()"
   ]
  },
  {
   "cell_type": "code",
   "execution_count": 12,
   "metadata": {},
   "outputs": [
    {
     "data": {
      "image/png": "[encoded data removed]",
      "text/plain": [
       "<Figure size 432x288 with 1 Axes>"
      ]
     },
     "metadata": {
      "needs_background": "light"
     },
     "output_type": "display_data"
    }
   ],
   "source": [
    "import matplotlib.pyplot as plt\n",
    "import matplotlib.dates as mdates\n",
    "from datetime import datetime\n",
    "import numpy as np\n",
    "\n",
    "# Fixing random state for reproducibility\n",
    "np.random.seed(19680801)\n",
    "\n",
    "# Example data\n",
    "people = ('Tom', 'Dick', 'Harry', 'Slim', 'Jim')\n",
    "y_pos = np.arange(len(people))\n",
    "performance = 3 + 10 * np.random.rand(len(people))\n",
    "error = np.random.rand(len(people))\n",
    "\n",
    "fig, ax = plt.subplots()\n",
    "\n",
    "hbars = ax.barh(y_pos, performance, xerr=error, align='center')\n",
    "ax.set_yticks(y_pos)\n",
    "ax.set_yticklabels(people)\n",
    "ax.invert_yaxis()  # labels read top-to-bottom\n",
    "ax.set_xlabel('Performance')\n",
    "ax.set_title('How fast do you want to go today?')\n",
    "\n",
    "# Label with specially formatted floats\n",
    "ax.bar_label(hbars, fmt='%.2f')\n",
    "ax.set_xlim(right=15)  # adjust xlim to fit labels\n",
    "\n",
    "plt.show()"
   ]
  }
 ],
 "metadata": {
  "kernelspec": {
   "display_name": "base",
   "language": "python",
   "name": "python3"
  },
  "language_info": {
   "codemirror_mode": {
    "name": "ipython",
    "version": 3
   },
   "file_extension": ".py",
   "mimetype": "text/x-python",
   "name": "python",
   "nbconvert_exporter": "python",
   "pygments_lexer": "ipython3",
   "version": "3.9.16"
  },
  "orig_nbformat": 4
 },
 "nbformat": 4,
 "nbformat_minor": 2
}
