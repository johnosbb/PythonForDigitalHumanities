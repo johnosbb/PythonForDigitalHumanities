{
 "cells": [
  {
   "cell_type": "code",
   "execution_count": 4,
   "metadata": {},
   "outputs": [
    {
     "data": {
      "text/html": [
       "<span class=\"tex2jax_ignore\"><div class=\"entities\" style=\"line-height: 2.5; direction: ltr\">This is a sample text about \n",
       "<mark class=\"entity\" style=\"background: #ff0000; padding: 0.45em 0.6em; margin: 0 0.25em; line-height: 1; border-radius: 0.35em;\">\n",
       "    John\n",
       "    <span style=\"font-size: 0.8em; font-weight: bold; line-height: 1; border-radius: 0.35em; vertical-align: middle; margin-left: 0.5rem\">PERSON</span>\n",
       "</mark>\n",
       " trying different types of words in \n",
       "<mark class=\"entity\" style=\"background: #feca74; padding: 0.45em 0.6em; margin: 0 0.25em; line-height: 1; border-radius: 0.35em;\">\n",
       "    New York\n",
       "    <span style=\"font-size: 0.8em; font-weight: bold; line-height: 1; border-radius: 0.35em; vertical-align: middle; margin-left: 0.5rem\">GPE</span>\n",
       "</mark>\n",
       " in \n",
       "<mark class=\"entity\" style=\"background: #feca74; padding: 0.45em 0.6em; margin: 0 0.25em; line-height: 1; border-radius: 0.35em;\">\n",
       "    the United States\n",
       "    <span style=\"font-size: 0.8em; font-weight: bold; line-height: 1; border-radius: 0.35em; vertical-align: middle; margin-left: 0.5rem\">GPE</span>\n",
       "</mark>\n",
       " while using his \n",
       "<mark class=\"entity\" style=\"background: #7aecec; padding: 0.45em 0.6em; margin: 0 0.25em; line-height: 1; border-radius: 0.35em;\">\n",
       "    Apple\n",
       "    <span style=\"font-size: 0.8em; font-weight: bold; line-height: 1; border-radius: 0.35em; vertical-align: middle; margin-left: 0.5rem\">ORG</span>\n",
       "</mark>\n",
       " phone.</div></span>"
      ],
      "text/plain": [
       "<IPython.core.display.HTML object>"
      ]
     },
     "metadata": {},
     "output_type": "display_data"
    }
   ],
   "source": [
    "import spacy\n",
    "from spacy import displacy\n",
    "\n",
    "# Load the spaCy model\n",
    "nlp = spacy.load(\"en_core_web_sm\")\n",
    "\n",
    "# PERSON - People, including fictional characters.\n",
    "# NORP - Nationalities or religious or political groups.\n",
    "# FAC - Buildings, airports, highways, bridges, etc.\n",
    "# ORG - Companies, agencies, institutions, etc.\n",
    "# GPE - Countries, cities, states.\n",
    "# LOC - Non-GPE locations, mountain ranges, bodies of water.\n",
    "# PRODUCT - Objects, vehicles, foods, etc. (Not supported in all models)\n",
    "# EVENT - Named hurricanes, battles, wars, sports events, etc.\n",
    "# WORK_OF_ART - Titles of books, songs, etc.\n",
    "# LAW - Named documents made into laws.\n",
    "# LANGUAGE - Any named language.\n",
    "# DATE - Absolute or relative dates or periods.\n",
    "# TIME - Times smaller than a day.\n",
    "# PERCENT - Percentage, including \"%\".\n",
    "# MONEY - Monetary values, including unit.\n",
    "# QUANTITY - Measurements, as of weight or distance.\n",
    "# ORDINAL - \"first\", \"second\", etc.\n",
    "# CARDINAL - Numerals that do not fall under another type.\n",
    "\n",
    "# Process the text\n",
    "text = \"This is a sample text about John trying different types of words in New York in the United States while using his Apple phone.\"\n",
    "doc = nlp(text)\n",
    "\n",
    "# Create the HTML markup with colors for different word types\n",
    "options = {\"colors\": {\"PERSON\": \"#ff0000\", \"CITY\": \"#00ff00\",\"COUNTRY\" : \"linear-gradient(90deg,#aa9cfc,#fcpce7)\"}}\n",
    "displacy.render(doc, style=\"ent\",options=options)\n",
    "\n",
    "# Create a simple HTML file to display the text with colors\n",
    "# with open(\"text_with_colors.html\", \"w\", encoding=\"utf-8\") as f:\n",
    "#     f.write(html_markup)\n"
   ]
  }
 ],
 "metadata": {
  "kernelspec": {
   "display_name": "base",
   "language": "python",
   "name": "python3"
  },
  "language_info": {
   "codemirror_mode": {
    "name": "ipython",
    "version": 3
   },
   "file_extension": ".py",
   "mimetype": "text/x-python",
   "name": "python",
   "nbconvert_exporter": "python",
   "pygments_lexer": "ipython3",
   "version": "3.9.16"
  },
  "orig_nbformat": 4
 },
 "nbformat": 4,
 "nbformat_minor": 2
}
