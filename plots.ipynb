{
 "cells": [
  {
   "cell_type": "code",
   "execution_count": 1,
   "metadata": {},
   "outputs": [
    {
     "data": {
      "image/png": "[encoded data removed]",
      "text/plain": [
       "<Figure size 432x288 with 1 Axes>"
      ]
     },
     "metadata": {
      "needs_background": "light"
     },
     "output_type": "display_data"
    }
   ],
   "source": [
    "import matplotlib.pyplot as plt\n",
    "import matplotlib.dates as mdates\n",
    "from datetime import datetime\n",
    "import numpy as np\n",
    "\n",
    "# Example event data\n",
    "events = [\n",
    "    {\"time\": \"2023-05-10 10:30\", \"event\": \"Event 1\"},\n",
    "    {\"time\": \"2023-05-10 12:15\", \"event\": \"Event 2\"},\n",
    "    {\"time\": \"2023-05-10 14:00\", \"event\": \"Event 3\"},\n",
    "    # Add more events as needed\n",
    "]\n",
    "\n",
    "# Convert time strings to datetime objects\n",
    "event_times = [datetime.strptime(event[\"time\"], \"%Y-%m-%d %H:%M\") for event in events]\n",
    "event_labels = [event[\"event\"] for event in events]\n",
    "\n",
    "y_pos = np.arange(len(events))\n",
    "# Create a plot\n",
    "fig, ax = plt.subplots()\n",
    "\n",
    "# Set x-axis to display time\n",
    "ax.xaxis.set_major_formatter(mdates.DateFormatter(\"%H:%M\"))\n",
    "ax.xaxis.set_major_locator(mdates.HourLocator(interval=1))\n",
    "\n",
    "# Plot the events\n",
    "ax.eventplot(event_times, lineoffsets=1, linelengths=0.5, color=\"red\")\n",
    "ax.set_ylim(0.5, 1.5)  # Adjust the y-axis limits\n",
    "ax.set_yticks(y_pos)\n",
    "ax.set_yticklabels(event_labels)\n",
    "\n",
    "# Set plot title and labels\n",
    "ax.set_title(\"Events Timeline\")\n",
    "ax.set_xlabel(\"Time\")\n",
    "ax.set_ylabel(\"Events\")\n",
    "\n",
    "# Display the plot\n",
    "plt.show()\n"
   ]
  }
 ],
 "metadata": {
  "kernelspec": {
   "display_name": "base",
   "language": "python",
   "name": "python3"
  },
  "language_info": {
   "codemirror_mode": {
    "name": "ipython",
    "version": 3
   },
   "file_extension": ".py",
   "mimetype": "text/x-python",
   "name": "python",
   "nbconvert_exporter": "python",
   "pygments_lexer": "ipython3",
   "version": "3.9.7"
  },
  "orig_nbformat": 4
 },
 "nbformat": 4,
 "nbformat_minor": 2
}
