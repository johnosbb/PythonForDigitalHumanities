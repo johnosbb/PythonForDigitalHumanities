{
 "cells": [
  {
   "cell_type": "code",
   "execution_count": 4,
   "metadata": {},
   "outputs": [
    {
     "name": "stdout",
     "output_type": "stream",
     "text": [
      "{'name': 'John', 'address': 'my Address'}\n",
      "{'name': 'John', 'address': 'my Address'}\n",
      "John\n",
      "my Address\n"
     ]
    }
   ],
   "source": [
    "# Dictionaries\n",
    "\n",
    "s = { \"name\" : \"John\", \"address\" : \"my Address\"} # a dictionary is a collection of name value pairs\n",
    "print(s)\n",
    "# data can be structured into a list of dictionary items\n",
    "\n",
    "data = [ {\"name\" : \"John\", \"address\" : \"my Address\"},{\"name\" : \"Jeff\", \"address\" : \"his Address\"}]\n",
    "print(data[0])\n",
    "print (data[0][\"name\"]) # the name value of the first element\n",
    "print (data[0][\"address\"]) # the address value of the first element"
   ]
  },
  {
   "cell_type": "code",
   "execution_count": null,
   "metadata": {},
   "outputs": [],
   "source": []
  }
 ],
 "metadata": {
  "kernelspec": {
   "display_name": "base",
   "language": "python",
   "name": "python3"
  },
  "language_info": {
   "codemirror_mode": {
    "name": "ipython",
    "version": 3
   },
   "file_extension": ".py",
   "mimetype": "text/x-python",
   "name": "python",
   "nbconvert_exporter": "python",
   "pygments_lexer": "ipython3",
   "version": "3.9.7"
  },
  "orig_nbformat": 4
 },
 "nbformat": 4,
 "nbformat_minor": 2
}
