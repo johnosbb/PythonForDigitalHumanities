{
 "cells": [
  {
   "cell_type": "code",
   "execution_count": 9,
   "metadata": {},
   "outputs": [
    {
     "name": "stdout",
     "output_type": "stream",
     "text": [
      "[{'Ross': 33}, {'Bob': 34}, {'John': 31}, {'Anne': 28}, {'Joey': 33}]\n",
      "[{'Ross': 33}, {'John': 31}, {'Joey': 33}]\n",
      "[{'John': 31}, {'Anne': 28}, {'Joey': 33}]\n",
      "Ross\n",
      "Bob\n",
      "John\n",
      "Anne\n",
      "Joey\n",
      "0\n",
      "1\n",
      "2\n",
      "3\n",
      "4\n"
     ]
    }
   ],
   "source": [
    "names = [\"Ross\", \"Bob\", \"John\",\"Anne\",\"Joey\"]\n",
    "ages = [33,34,31,28,33]\n",
    "friends = []\n",
    "for i in range(len(names)): # range method\n",
    "    friends.append({names[i] : ages[i]})\n",
    "print(friends)\n",
    "\n",
    "friends = []\n",
    "for i in range(0, len(names),2): # range method with start stop and skip\n",
    "    friends.append({names[i] : ages[i]})\n",
    "print(friends)\n",
    "\n",
    "friends = []\n",
    "for i in range(2, len(names)): # range method with start stop \n",
    "    friends.append({names[i] : ages[i]})\n",
    "print(friends)\n",
    "\n",
    "\n",
    "for name in names: # using iterator\n",
    "    print(name)\n",
    "    \n",
    "x = 0\n",
    "while x < 5:\n",
    "    print(x)\n",
    "    x+=1\n"
   ]
  }
 ],
 "metadata": {
  "kernelspec": {
   "display_name": "base",
   "language": "python",
   "name": "python3"
  },
  "language_info": {
   "codemirror_mode": {
    "name": "ipython",
    "version": 3
   },
   "file_extension": ".py",
   "mimetype": "text/x-python",
   "name": "python",
   "nbconvert_exporter": "python",
   "pygments_lexer": "ipython3",
   "version": "3.9.16"
  },
  "orig_nbformat": 4
 },
 "nbformat": 4,
 "nbformat_minor": 2
}
