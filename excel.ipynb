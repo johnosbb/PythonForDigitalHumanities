{
 "cells": [
  {
   "cell_type": "code",
   "execution_count": 24,
   "metadata": {},
   "outputs": [
    {
     "name": "stdout",
     "output_type": "stream",
     "text": [
      "Sheet  0:<Sheet1>\n",
      "[text:'John', text:'Limerick', xldate:22754.0]\n",
      "name: text:'Limerick' address: xldate:22754.0 date: 1962-04-18 00:00:00\n",
      "[text:'ver', text:'Limerick', xldate:23883.0]\n",
      "name: text:'Limerick' address: xldate:23883.0 date: 1965-05-21 00:00:00\n"
     ]
    }
   ],
   "source": [
    "import xlrd\n",
    "\n",
    "book = xlrd.open_workbook(\"./ReferenceFiles/names.xls\")\n",
    "sheet = book.sheet_by_index(0)\n",
    "print(sheet)\n",
    "for i in range(1,sheet.nrows): # First Row is a header so we start at row 1 instead of row 0\n",
    "    row = sheet.row_slice(i)\n",
    "    print(row)\n",
    "    name = row[1]\n",
    "    address = row[2]\n",
    "    date = xlrd.xldate.xldate_as_datetime(row[2].value,0)\n",
    "    print(f\"name: {name} address: {address} date: {date}\")"
   ]
  },
  {
   "cell_type": "code",
   "execution_count": 34,
   "metadata": {},
   "outputs": [
    {
     "name": "stdout",
     "output_type": "stream",
     "text": [
      "Sheet  0:<Sheet1>\n",
      "[text:'John', text:'Limerick', xldate:22754.0]\n",
      "1 name: John, address: Limerick, date: 1962-04-18 00:00:00\n",
      "[text:'ver', text:'Limerick', xldate:23883.0]\n",
      "2 name: ver, address: Limerick, date: 1965-05-21 00:00:00\n"
     ]
    }
   ],
   "source": [
    "import xlsxwriter as xs\n",
    "import xlrd\n",
    "import regex as re\n",
    "\n",
    "\n",
    "book = xlrd.open_workbook(\"./ReferenceFiles/names.xls\")\n",
    "sheet = book.sheet_by_index(0)\n",
    "\n",
    "# out_book = xlrd.open_workbook(\"./ReferenceFiles/names_out.xlsx\")\n",
    "# out_sheet = out_book.sheet_by_index(0)\n",
    "\n",
    "workbook = xs.Workbook(\"./ReferenceFiles/names_out.xlsx\")\n",
    "worksheet = workbook.add_worksheet()\n",
    "\n",
    "print(sheet)\n",
    "for i in range(1,sheet.nrows): # First Row is a header so we start at row 1 instead of row 0\n",
    "    row = sheet.row_slice(i)\n",
    "    print(row)\n",
    "    name = row[0].value\n",
    "    address = row[1].value\n",
    "    date = xlrd.xldate.xldate_as_datetime(row[2].value,0)\n",
    "    print(f\"{i} name: {name}, address: {address}, date: {date}\")\n",
    "    worksheet.write(i,1,name)\n",
    "    worksheet.write(i,2,address)\n",
    "    worksheet.write(i,3,date)\n",
    "workbook.close()\n",
    "    \n"
   ]
  }
 ],
 "metadata": {
  "kernelspec": {
   "display_name": "base",
   "language": "python",
   "name": "python3"
  },
  "language_info": {
   "codemirror_mode": {
    "name": "ipython",
    "version": 3
   },
   "file_extension": ".py",
   "mimetype": "text/x-python",
   "name": "python",
   "nbconvert_exporter": "python",
   "pygments_lexer": "ipython3",
   "version": "3.9.16"
  },
  "orig_nbformat": 4
 },
 "nbformat": 4,
 "nbformat_minor": 2
}
