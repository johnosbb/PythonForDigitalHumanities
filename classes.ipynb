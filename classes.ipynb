{
 "cells": [
  {
   "cell_type": "code",
   "execution_count": 8,
   "metadata": {},
   "outputs": [
    {
     "name": "stdout",
     "output_type": "stream",
     "text": [
      "<__main__.Emperor object at 0x7f445c1b45e0>\n",
      "{'name': 'Charlemagne', 'birth': 742, 'coron': 800, 'death': 814}\n",
      "{'name': 'Charlemagne', 'birth': 742, 'coron': 800, 'death': 814}\n",
      "{'name': 'Louis', 'birth': 773, 'coron': 813, 'death': 840}\n",
      "Charlemagne was born in 742\n"
     ]
    }
   ],
   "source": [
    "class Emperor:\n",
    "    def __init__(self,name,birth,coron,death):  # constructor\n",
    "        self.name = name\n",
    "        self.birth = birth\n",
    "        self.coron = coron\n",
    "        self.death = death\n",
    "        \n",
    "    #def __dict__():  \n",
    "    \n",
    "    def birth_data(self):\n",
    "        print(f\"{self.name} was born in {self.birth}\")\n",
    "        \n",
    "    def prose(self):\n",
    "        print(f\"{self.name} was emperor from {self.coron} until {self.death}\")    \n",
    "          \n",
    "        \n",
    "p1 = Emperor(\"Charlemagne\",742,800,814)\n",
    "p2 = Emperor(\"Louis\",773,813,840)\n",
    "\n",
    "print(p1)\n",
    "print(vars(p1)) # print class as a dictionary using vars\n",
    "print(p1.__dict__) # Convert to a dictionary\n",
    "print(p2.__dict__) # Convert to a dictionary\n",
    "p1.birth_data()        "
   ]
  }
 ],
 "metadata": {
  "kernelspec": {
   "display_name": "base",
   "language": "python",
   "name": "python3"
  },
  "language_info": {
   "codemirror_mode": {
    "name": "ipython",
    "version": 3
   },
   "file_extension": ".py",
   "mimetype": "text/x-python",
   "name": "python",
   "nbconvert_exporter": "python",
   "pygments_lexer": "ipython3",
   "version": "3.9.16"
  },
  "orig_nbformat": 4
 },
 "nbformat": 4,
 "nbformat_minor": 2
}
