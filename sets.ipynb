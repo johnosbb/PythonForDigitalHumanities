{
 "cells": [
  {
   "cell_type": "code",
   "execution_count": 5,
   "metadata": {},
   "outputs": [
    {
     "name": "stdout",
     "output_type": "stream",
     "text": [
      "{1, 2, 3, 4, 5, 6, 7, 8, 9}\n",
      "{1, 2, 3, 4, 5}\n",
      "[1, 2, 3, 4, 5]\n",
      "['Tom', 'Bob', 'Anne', 'Bob']\n",
      "{'Tom', 'Anne', 'Bob'}\n"
     ]
    }
   ],
   "source": [
    "l = [1,2,3,4,5,6,6,7,8,9]\n",
    "\n",
    "s= set(l) # a set is a list of items with duplicates removed\n",
    "print(s)\n",
    "s = { 1,2,3,4,5,5} # duplicates will be removed\n",
    "print(s)\n",
    "l = list(s) #convert to a list\n",
    "print(l)\n",
    "s = [\"Tom\", \"Bob\", \"Anne\", \"Bob\"]\n",
    "print(s)\n",
    "s2 = set(s)\n",
    "print(s2)\n"
   ]
  }
 ],
 "metadata": {
  "kernelspec": {
   "display_name": "base",
   "language": "python",
   "name": "python3"
  },
  "language_info": {
   "codemirror_mode": {
    "name": "ipython",
    "version": 3
   },
   "file_extension": ".py",
   "mimetype": "text/x-python",
   "name": "python",
   "nbconvert_exporter": "python",
   "pygments_lexer": "ipython3",
   "version": "3.9.7"
  },
  "orig_nbformat": 4
 },
 "nbformat": 4,
 "nbformat_minor": 2
}
