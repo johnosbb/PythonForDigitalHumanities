{
 "cells": [
  {
   "cell_type": "code",
   "execution_count": 21,
   "metadata": {},
   "outputs": [
    {
     "name": "stdout",
     "output_type": "stream",
     "text": [
      "[1, 2]\n",
      "(1.0, 2.0, ['one', 'two'])\n",
      "{'one': 1, 'two': 2}\n",
      "{'one': (1.0, 2.0, ['one', 'two']), 'two': [1, 2]}\n",
      "[{'one': 1, 'two': 2}, (1.0, 2.0, ['one', 'two'])]\n",
      "2\n",
      "2.0\n",
      "1\n",
      "1\n",
      "<class 'dict_items'>\n",
      "dict_items([('one', 1), ('two', 2)])\n",
      "key: one  value: 1\n",
      "key: two  value: 2\n"
     ]
    }
   ],
   "source": [
    "a1 = 1\n",
    "a2 = 2\n",
    "b1 = 1.0\n",
    "b2 = 2.0\n",
    "c1=\"one\"\n",
    "c2=\"two\"\n",
    "\n",
    "#list - a list can be changed in memory, it is mutable\n",
    "d = [a1,a2]\n",
    "print(d)\n",
    "\n",
    "# Tuple - a tuple is immutable, it cannot be changed, it is for read only non-modifiable data\n",
    "\n",
    "e = (b1,b2,[c1,c2])\n",
    "print(e)\n",
    "\n",
    "# Dictionary - a dictionary is mutable\n",
    "\n",
    "f = {c1:a1, c2:a2}\n",
    "print(f)\n",
    "\n",
    "# a dictionary of a tuple and a value pair\n",
    "g = {c1:e, c2:d}\n",
    "print(g)\n",
    "\n",
    "# list of dictionary and tuple\n",
    "h = [f,e]\n",
    "print(h)\n",
    "\n",
    "# Selecting the element of a list\n",
    "print(d[1])\n",
    "\n",
    "# Selecting the element of a tuple\n",
    "print(e[1])\n",
    "\n",
    "# Selecting the element of a dictionary\n",
    "print(f.get(\"one\"))\n",
    "print(f[\"one\"])\n",
    "print(type(f.items()))\n",
    "print(f.items())\n",
    "for key,value in f.items():\n",
    "    print(f\"key: {key}  value: {value}\")\n"
   ]
  },
  {
   "cell_type": "code",
   "execution_count": null,
   "metadata": {},
   "outputs": [],
   "source": []
  }
 ],
 "metadata": {
  "kernelspec": {
   "display_name": "base",
   "language": "python",
   "name": "python3"
  },
  "language_info": {
   "codemirror_mode": {
    "name": "ipython",
    "version": 3
   },
   "file_extension": ".py",
   "mimetype": "text/x-python",
   "name": "python",
   "nbconvert_exporter": "python",
   "pygments_lexer": "ipython3",
   "version": "3.9.7"
  },
  "orig_nbformat": 4
 },
 "nbformat": 4,
 "nbformat_minor": 2
}
