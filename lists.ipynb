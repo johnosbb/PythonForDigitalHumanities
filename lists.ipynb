{
 "cells": [
  {
   "cell_type": "code",
   "execution_count": 28,
   "metadata": {},
   "outputs": [
    {
     "name": "stdout",
     "output_type": "stream",
     "text": [
      "[1, 2, 3, 4, 5, 6]\n",
      "Hello my name is Earl\n",
      "['Hello', 'my', 'name', 'is', 'Earl']\n",
      "[1, 2, 3, 5, 6]\n",
      "[]\n",
      "Hello my name is Earl\n",
      "5\n",
      "['Hello', 'my']\n",
      "l\n",
      "['Hello', 'my', 'name', 'is']\n",
      "['Hello', 'my', 'name', 'is', 'John']\n",
      "[5, 4, 3, 2, 1]\n"
     ]
    }
   ],
   "source": [
    "#Lists\n",
    "\n",
    "\n",
    "# Lists are mutable, they can be changed in memory after creation\n",
    "\n",
    "l = [1,2,3,4,5] # create a list\n",
    "\n",
    "l.append(6) # add an element\n",
    "print(l)\n",
    "s  = \"Hello my name is Earl\"\n",
    "print(s)\n",
    "s1 = s.split(\" \") # create a list from a string\n",
    "print(s1)\n",
    "del l[3] # delete an element\n",
    "print(l)\n",
    "l.clear() # clear a list\n",
    "print(l)\n",
    "l = [1,2,3,4,5] # create a list\n",
    "s2 = \" \".join(s1) # we can join the elements of a list using a specified character\n",
    "print(s2)\n",
    "print(len(s1)) # length of a list\n",
    "print(s1[0:2]) # slicing the list\n",
    "print(s2[-1])# negative index\n",
    "s1.remove(\"Earl\") # remove first occurrence of a named item\n",
    "print(s1)\n",
    "s1.insert(4,\"John\") # insert an element into a specific position\n",
    "print(s1)\n",
    "l.sort(reverse=True)\n",
    "print(l)\n"
   ]
  }
 ],
 "metadata": {
  "kernelspec": {
   "display_name": "base",
   "language": "python",
   "name": "python3"
  },
  "language_info": {
   "codemirror_mode": {
    "name": "ipython",
    "version": 3
   },
   "file_extension": ".py",
   "mimetype": "text/x-python",
   "name": "python",
   "nbconvert_exporter": "python",
   "pygments_lexer": "ipython3",
   "version": "3.9.16"
  },
  "orig_nbformat": 4
 },
 "nbformat": 4,
 "nbformat_minor": 2
}
