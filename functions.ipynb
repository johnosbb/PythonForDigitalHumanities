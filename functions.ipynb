{
 "cells": [
  {
   "cell_type": "code",
   "execution_count": 12,
   "metadata": {},
   "outputs": [
    {
     "name": "stdout",
     "output_type": "stream",
     "text": [
      "Billy is cool!\n",
      "1\n",
      "3\n",
      "1\n",
      "Jeff is 22.\n",
      "1\n",
      "2\n",
      "3\n",
      "a\n",
      "b\n",
      "c\n",
      "d\n",
      "name John\n",
      "age 25\n",
      "city New York\n",
      "country USA\n"
     ]
    }
   ],
   "source": [
    "def does_nothing():\n",
    "    pass\n",
    "\n",
    "does_nothing\n",
    "\n",
    "def simple_function(input):\n",
    "    output = input + \" is cool!\"\n",
    "    return output\n",
    "\n",
    "result = simple_function(\"Billy\")\n",
    "print(result)\n",
    "\n",
    "def returns_tuple(input):\n",
    "    return (input,input+2)\n",
    "\n",
    "result1,result2 = returns_tuple(1)\n",
    "print (result1)\n",
    "print(result2)\n",
    "result3 = returns_tuple(1)\n",
    "print(result3[0]) # same as result 1\n",
    "\n",
    "def change(name,age):\n",
    "    print(f\"{name} is {age}.\")\n",
    "    \n",
    "name = {\"name\" : \"Jeff\", \"age\" : 22}    \n",
    "\n",
    "change(**name)\n",
    "\n",
    "\n",
    "# *args: The asterisk (*) syntax is used to define arbitrary (or optional) positional arguments in a function.\n",
    "# When a parameter is prefixed with *, it can receive any number of positional arguments, \n",
    "# which are packed into a tuple. The parameter name args is just a convention; you can use any valid variable name.\n",
    "\n",
    "def my_function(*args):\n",
    "    for arg in args:\n",
    "        print(arg)\n",
    "\n",
    "my_function(1, 2, 3)  # Prints: 1, 2, 3\n",
    "my_function('a', 'b', 'c' , 'd')  # Prints: a, b, c\n",
    "\n",
    "# **kwargs: The double asterisk (**) syntax is used to define arbitrary keyword arguments in a function. \n",
    "# When a parameter is prefixed with **, it can receive any number of keyword arguments, \n",
    "# which are packed into a dictionary. Again, the parameter name kwargs is just a convention.\n",
    "\n",
    "\n",
    "def my_function(**kwargs):\n",
    "    for key, value in kwargs.items():\n",
    "        print(key, value)\n",
    "\n",
    "my_function(name='John', age=25)  # Prints: name John, age 25\n",
    "my_function(city='New York', country='USA')  # Prints: city New York, country USA\n",
    "\n",
    "\n",
    "\n",
    "def change(name=\"Cindy\"): # default argument\n",
    "    print(name)"
   ]
  }
 ],
 "metadata": {
  "kernelspec": {
   "display_name": "base",
   "language": "python",
   "name": "python3"
  },
  "language_info": {
   "codemirror_mode": {
    "name": "ipython",
    "version": 3
   },
   "file_extension": ".py",
   "mimetype": "text/x-python",
   "name": "python",
   "nbconvert_exporter": "python",
   "pygments_lexer": "ipython3",
   "version": "3.9.7"
  },
  "orig_nbformat": 4
 },
 "nbformat": 4,
 "nbformat_minor": 2
}
